{
  "nbformat": 4,
  "nbformat_minor": 0,
  "metadata": {
    "colab": {
      "provenance": []
    },
    "kernelspec": {
      "name": "python3",
      "display_name": "Python 3"
    },
    "language_info": {
      "name": "python"
    }
  },
  "cells": [
    {
      "cell_type": "code",
      "execution_count": 2,
      "metadata": {
        "id": "TYglLh5UDCp1",
        "colab": {
          "base_uri": "https://localhost:8080/"
        },
        "outputId": "51c98158-664e-4a4a-c14b-e9a9bccd6f84"
      },
      "outputs": [
        {
          "output_type": "stream",
          "name": "stdout",
          "text": [
            "Collecting ortools\n",
            "  Downloading ortools-9.12.4544-cp311-cp311-manylinux_2_27_x86_64.manylinux_2_28_x86_64.whl.metadata (3.3 kB)\n",
            "Collecting absl-py>=2.0.0 (from ortools)\n",
            "  Downloading absl_py-2.2.2-py3-none-any.whl.metadata (2.6 kB)\n",
            "Requirement already satisfied: numpy>=1.13.3 in /usr/local/lib/python3.11/dist-packages (from ortools) (2.0.2)\n",
            "Requirement already satisfied: pandas>=2.0.0 in /usr/local/lib/python3.11/dist-packages (from ortools) (2.2.2)\n",
            "Requirement already satisfied: protobuf<5.30,>=5.29.3 in /usr/local/lib/python3.11/dist-packages (from ortools) (5.29.4)\n",
            "Requirement already satisfied: immutabledict>=3.0.0 in /usr/local/lib/python3.11/dist-packages (from ortools) (4.2.1)\n",
            "Requirement already satisfied: python-dateutil>=2.8.2 in /usr/local/lib/python3.11/dist-packages (from pandas>=2.0.0->ortools) (2.8.2)\n",
            "Requirement already satisfied: pytz>=2020.1 in /usr/local/lib/python3.11/dist-packages (from pandas>=2.0.0->ortools) (2025.2)\n",
            "Requirement already satisfied: tzdata>=2022.7 in /usr/local/lib/python3.11/dist-packages (from pandas>=2.0.0->ortools) (2025.2)\n",
            "Requirement already satisfied: six>=1.5 in /usr/local/lib/python3.11/dist-packages (from python-dateutil>=2.8.2->pandas>=2.0.0->ortools) (1.17.0)\n",
            "Downloading ortools-9.12.4544-cp311-cp311-manylinux_2_27_x86_64.manylinux_2_28_x86_64.whl (24.9 MB)\n",
            "\u001b[2K   \u001b[90m━━━━━━━━━━━━━━━━━━━━━━━━━━━━━━━━━━━━━━━━\u001b[0m \u001b[32m24.9/24.9 MB\u001b[0m \u001b[31m52.6 MB/s\u001b[0m eta \u001b[36m0:00:00\u001b[0m\n",
            "\u001b[?25hDownloading absl_py-2.2.2-py3-none-any.whl (135 kB)\n",
            "\u001b[2K   \u001b[90m━━━━━━━━━━━━━━━━━━━━━━━━━━━━━━━━━━━━━━━━\u001b[0m \u001b[32m135.6/135.6 kB\u001b[0m \u001b[31m8.3 MB/s\u001b[0m eta \u001b[36m0:00:00\u001b[0m\n",
            "\u001b[?25hInstalling collected packages: absl-py, ortools\n",
            "  Attempting uninstall: absl-py\n",
            "    Found existing installation: absl-py 1.4.0\n",
            "    Uninstalling absl-py-1.4.0:\n",
            "      Successfully uninstalled absl-py-1.4.0\n",
            "Successfully installed absl-py-2.2.2 ortools-9.12.4544\n"
          ]
        }
      ],
      "source": [
        "!pip install ortools\n",
        "from ortools.sat.python import cp_model"
      ]
    },
    {
      "cell_type": "code",
      "source": [
        "model=cp_model.CpModel()\n",
        "ub=50\n",
        "x=model.new_int_var(0,ub,\"x\")\n",
        "y=model.new_int_var(0,ub,\"y\")\n",
        "z=model.new_int_var(0,ub,\"z\")\n",
        "model.add(2 * x + 7 * y + 3 * z <= 50)\n",
        "model.add(3 * x - 5 * y + 7 * z <= 45)\n",
        "model.add(5 * x + 2 * y - 6 * z <= 37)\n",
        "\n",
        "model.maximize(2 * x + 2 * y + 3 * z)\n",
        "solver=cp_model.CpSolver()\n",
        "status=solver.Solve(model)\n",
        "if status==  cp_model.OPTIMAL or status==cp_model.FEASIBLE:\n",
        "  print(solver.objective_value)\n",
        "  print(f\"x={solver.value(x)}\")\n",
        "  print(f\"y={solver.Value(y)}\")\n",
        "  print(f\"z={solver.Value(z)}\")\n",
        "else:\n",
        "  print(\"None\")\n",
        "\n",
        "print(f\"  status   : {solver.status_name(status)}\")\n",
        "print(f\"  conflicts: {solver.num_conflicts}\")\n",
        "print(f\"  branches : {solver.num_branches}\")\n",
        "print(f\"  wall time: {solver.wall_time} s\")\n",
        "\n",
        "class AllSolutions(cp_model.CpSolverSolutionCallback):\n",
        "  def __init__(self,variables :list[cp_model.IntVar]):\n",
        "    cp_model.CpSolverSolutionCallback.__init__(self)\n",
        "    self.__variables = variables\n",
        "    self.__solution_count = 0\n",
        "\n",
        "  def on_solution_callback(self) -> None:\n",
        "        self.__solution_count += 1\n",
        "        for v in self.__variables:\n",
        "            print(f\"{v}={self.value(v)}  \")\n",
        "        print()\n",
        "\n",
        "  @property\n",
        "  def solution_count(self) -> int:\n",
        "    return self.__solution_count\n",
        "solver=cp_model.CpSolver()\n",
        "solution_printer=AllSolutions([x,y,z])\n",
        "solver.parameters\n",
        "status=solver.solve(model,solution_printer)"
      ],
      "metadata": {
        "colab": {
          "base_uri": "https://localhost:8080/"
        },
        "id": "F8QjpnT291vc",
        "outputId": "3e57c56d-58db-420d-a066-e600d7d587a2"
      },
      "execution_count": 28,
      "outputs": [
        {
          "output_type": "stream",
          "name": "stdout",
          "text": [
            "35.0\n",
            "x=7\n",
            "y=3\n",
            "z=5\n",
            "  status   : OPTIMAL\n",
            "  conflicts: 2\n",
            "  branches : 12\n",
            "  wall time: 0.00816447 s\n",
            "x=0  \n",
            "y=0  \n",
            "z=0  \n",
            "\n",
            "x=0  \n",
            "y=7  \n",
            "z=0  \n",
            "\n",
            "x=5  \n",
            "y=5  \n",
            "z=0  \n",
            "\n",
            "x=9  \n",
            "y=3  \n",
            "z=3  \n",
            "\n",
            "x=9  \n",
            "y=2  \n",
            "z=4  \n",
            "\n",
            "x=7  \n",
            "y=3  \n",
            "z=5  \n",
            "\n"
          ]
        }
      ]
    },
    {
      "cell_type": "code",
      "source": [
        "from ortools.sat.python import cp_model\n",
        "\n",
        "# Product and Slot Info\n",
        "products = [\n",
        "    {\"id\": 1, \"frequency\": 15, \"volume\": 2},\n",
        "    {\"id\": 2, \"frequency\": 8,  \"volume\": 1},\n",
        "    {\"id\": 3, \"frequency\": 20, \"volume\": 3}\n",
        "]\n",
        "\n",
        "slots = [\n",
        "    {\"id\": 1, \"distance\": 1, \"capacity\": 3},\n",
        "    {\"id\": 2, \"distance\": 2, \"capacity\": 2},\n",
        "    {\"id\": 3, \"distance\": 3, \"capacity\": 2}\n",
        "]\n",
        "\n",
        "model = cp_model.CpModel()\n",
        "assignment = {}\n",
        "\n",
        "# Step 1: Create Boolean variables\n",
        "for i in range(len(products)):\n",
        "    for j in range(len(slots)):\n",
        "        assignment[(i, j)] = model.new_bool_var(f\"p{products[i]['id']}_s{slots[j]['id']}\")\n",
        "\n",
        "# Step 2: Each product must go in exactly one slot\n",
        "for i in range(len(products)):\n",
        "    model.add(sum(assignment[(i, j)] for j in range(len(slots))) == 1)\n",
        "\n",
        "# Step 3: Each slot's capacity must not be exceeded\n",
        "for j in range(len(slots)):\n",
        "    model.add(\n",
        "        sum(assignment[(i, j)] * products[i][\"volume\"] for i in range(len(products)))\n",
        "        <= slots[j][\"capacity\"]\n",
        "    )\n",
        "\n",
        "# Step 4: Objective - Minimize total walking distance\n",
        "model.Minimize(\n",
        "    sum(\n",
        "        assignment[(i, j)] * products[i][\"frequency\"] * slots[j][\"distance\"]\n",
        "        for i in range(len(products))\n",
        "        for j in range(len(slots))\n",
        "    )\n",
        ")\n",
        "\n",
        "# Step 5: Solve\n",
        "solver = cp_model.CpSolver()\n",
        "status = solver.solve(model)\n",
        "\n",
        "# Step 6: Display Result\n",
        "if status in (cp_model.OPTIMAL, cp_model.FEASIBLE):\n",
        "    for i in range(len(products)):\n",
        "        for j in range(len(slots)):\n",
        "            if solver.value(assignment[(i, j)]) == 1:\n",
        "                print(f\"Product {products[i]['id']} assigned to Slot {slots[j]['id']}\")\n",
        "    print(f\"Minimum Total Walking Distance: {solver.objective_value}\")\n",
        "else:\n",
        "    print(\"No solution found.\")\n"
      ],
      "metadata": {
        "colab": {
          "base_uri": "https://localhost:8080/"
        },
        "id": "Q8JArOMlA8jW",
        "outputId": "e36ffeb9-97ac-436c-8297-e8212ba62441"
      },
      "execution_count": 29,
      "outputs": [
        {
          "output_type": "stream",
          "name": "stdout",
          "text": [
            "Product 1 assigned to Slot 2\n",
            "Product 2 assigned to Slot 3\n",
            "Product 3 assigned to Slot 1\n",
            "Minimum Total Walking Distance: 74.0\n"
          ]
        }
      ]
    },
    {
      "cell_type": "markdown",
      "source": [],
      "metadata": {
        "id": "t81puI7yFKJB"
      }
    }
  ]
}